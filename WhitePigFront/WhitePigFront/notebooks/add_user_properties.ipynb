{
 "cells": [
  {
   "cell_type": "markdown",
   "id": "aa016875",
   "metadata": {},
   "source": [
    "# Update App.vue to Add Button\n",
    "Add a new button in the guide section of App.vue with the label '用户房产信息'. Update the switchModule method to handle the new module."
   ]
  },
  {
   "cell_type": "code",
   "execution_count": null,
   "id": "b00858f9",
   "metadata": {},
   "outputs": [],
   "source": [
    "# Update App.vue\n",
    "# Add the following button in the guide section of the template:\n",
    "# <button class=\"guide-button\" @click=\"switchModule('userProperties')\">用户房产信息</button>\n",
    "\n",
    "# Update the switchModule method in the script section:\n",
    "switchModule(moduleId) {\n",
    "  this.activeModule = moduleId;\n",
    "  this.selectedTransaction = null; // Clear selected transaction when switching modules\n",
    "}"
   ]
  },
  {
   "cell_type": "markdown",
   "id": "028e3317",
   "metadata": {},
   "source": [
    "# Create UserProperties Component\n",
    "Create a new UserProperties.vue file. Implement a basic template to display a list of user properties with mock data."
   ]
  },
  {
   "cell_type": "code",
   "execution_count": null,
   "id": "e71fd460",
   "metadata": {},
   "outputs": [],
   "source": [
    "# filepath: d:\\DApp_demo\\WhitePig\\WhitePigFront\\WhitePigFront\\src\\components\\UserProperties.vue\n",
    "<template>\n",
    "  <div class=\"user-properties\">\n",
    "    <h2>用户房产信息</h2>\n",
    "    <ul>\n",
    "      <li v-for=\"property in properties\" :key=\"property.id\">\n",
    "        <strong>{{ property.name }}</strong>: {{ property.description }}\n",
    "      </li>\n",
    "    </ul>\n",
    "  </div>\n",
    "</template>\n",
    "\n",
    "<script>\n",
    "export default {\n",
    "  name: 'UserProperties',\n",
    "  data() {\n",
    "    return {\n",
    "      properties: [\n",
    "        { id: 1, name: '房产1', description: '位于锦江区的两室一厅' },\n",
    "        { id: 2, name: '房产2', description: '位于青羊区的三室一厅' },\n",
    "        { id: 3, name: '房产3', description: '位于武侯区的一室一厅' }\n",
    "      ]\n",
    "    };\n",
    "  }\n",
    "};\n",
    "</script>\n",
    "\n",
    "<style scoped>\n",
    ".user-properties {\n",
    "  font-family: 'Cursive', 'Arial', sans-serif;\n",
    "  padding: 20px;\n",
    "  background-color: #f9f9f9;\n",
    "  border-radius: 8px;\n",
    "}\n",
    "</style>"
   ]
  },
  {
   "cell_type": "markdown",
   "id": "c1dd86d9",
   "metadata": {},
   "source": [
    "# Integrate UserProperties Component in App.vue\n",
    "Import the UserProperties component in App.vue. Update the activeModuleComponent computed property to include the new component."
   ]
  },
  {
   "cell_type": "code",
   "execution_count": null,
   "id": "902a662b",
   "metadata": {},
   "outputs": [],
   "source": [
    "# Update App.vue\n",
    "# Import the UserProperties component in the script section:\n",
    "import UserProperties from './components/UserProperties.vue';\n",
    "\n",
    "# Add UserProperties to the components object:\n",
    "components: {\n",
    "  UserInfo,\n",
    "  DaoManagement,\n",
    "  RentalMarket,\n",
    "  LearnMore,\n",
    "  TransactionDetails,\n",
    "  UserProperties\n",
    "},\n",
    "\n",
    "# Update the activeModuleComponent computed property:\n",
    "activeModuleComponent() {\n",
    "  if (this.activeModule === 'transactionDetails') {\n",
    "    return 'TransactionDetails';\n",
    "  }\n",
    "  switch (this.activeModule) {\n",
    "    case 'rentalMarket':\n",
    "      return 'RentalMarket';\n",
    "    case 'userInfo':\n",
    "      return 'UserInfo';\n",
    "    case 'daoManagement':\n",
    "      return 'DaoManagement';\n",
    "    case 'learnMore':\n",
    "      return 'LearnMore';\n",
    "    case 'userProperties':\n",
    "      return 'UserProperties';\n",
    "    default:\n",
    "      return null;\n",
    "  }\n",
    "}"
   ]
  }
 ],
 "metadata": {
  "language_info": {
   "name": "python"
  }
 },
 "nbformat": 4,
 "nbformat_minor": 5
}
